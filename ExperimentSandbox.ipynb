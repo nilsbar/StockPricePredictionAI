{
 "cells": [
  {
   "cell_type": "code",
   "execution_count": 2,
   "metadata": {},
   "outputs": [],
   "source": [
    "import yfinance as yf\n",
    "import pandas as pd"
   ]
  },
  {
   "cell_type": "code",
   "execution_count": 7,
   "metadata": {},
   "outputs": [
    {
     "data": {
      "text/html": [
       "<div>\n",
       "<style scoped>\n",
       "    .dataframe tbody tr th:only-of-type {\n",
       "        vertical-align: middle;\n",
       "    }\n",
       "\n",
       "    .dataframe tbody tr th {\n",
       "        vertical-align: top;\n",
       "    }\n",
       "\n",
       "    .dataframe thead th {\n",
       "        text-align: right;\n",
       "    }\n",
       "</style>\n",
       "<table border=\"1\" class=\"dataframe\">\n",
       "  <thead>\n",
       "    <tr style=\"text-align: right;\">\n",
       "      <th></th>\n",
       "      <th>Open</th>\n",
       "      <th>High</th>\n",
       "      <th>Low</th>\n",
       "      <th>Close</th>\n",
       "      <th>Volume</th>\n",
       "      <th>Dividends</th>\n",
       "      <th>Stock Splits</th>\n",
       "    </tr>\n",
       "    <tr>\n",
       "      <th>Date</th>\n",
       "      <th></th>\n",
       "      <th></th>\n",
       "      <th></th>\n",
       "      <th></th>\n",
       "      <th></th>\n",
       "      <th></th>\n",
       "      <th></th>\n",
       "    </tr>\n",
       "  </thead>\n",
       "  <tbody>\n",
       "    <tr>\n",
       "      <th>2018-12-24 00:00:00-05:00</th>\n",
       "      <td>2400.560059</td>\n",
       "      <td>2410.340088</td>\n",
       "      <td>2351.100098</td>\n",
       "      <td>2351.100098</td>\n",
       "      <td>2613670000</td>\n",
       "      <td>0.0</td>\n",
       "      <td>0.0</td>\n",
       "    </tr>\n",
       "    <tr>\n",
       "      <th>2018-12-26 00:00:00-05:00</th>\n",
       "      <td>2363.120117</td>\n",
       "      <td>2467.760010</td>\n",
       "      <td>2346.580078</td>\n",
       "      <td>2467.699951</td>\n",
       "      <td>4249740000</td>\n",
       "      <td>0.0</td>\n",
       "      <td>0.0</td>\n",
       "    </tr>\n",
       "    <tr>\n",
       "      <th>2018-12-27 00:00:00-05:00</th>\n",
       "      <td>2442.500000</td>\n",
       "      <td>2489.100098</td>\n",
       "      <td>2397.939941</td>\n",
       "      <td>2488.830078</td>\n",
       "      <td>4139010000</td>\n",
       "      <td>0.0</td>\n",
       "      <td>0.0</td>\n",
       "    </tr>\n",
       "    <tr>\n",
       "      <th>2018-12-28 00:00:00-05:00</th>\n",
       "      <td>2498.770020</td>\n",
       "      <td>2520.270020</td>\n",
       "      <td>2472.889893</td>\n",
       "      <td>2485.739990</td>\n",
       "      <td>3728440000</td>\n",
       "      <td>0.0</td>\n",
       "      <td>0.0</td>\n",
       "    </tr>\n",
       "    <tr>\n",
       "      <th>2018-12-31 00:00:00-05:00</th>\n",
       "      <td>2498.939941</td>\n",
       "      <td>2509.239990</td>\n",
       "      <td>2482.820068</td>\n",
       "      <td>2506.850098</td>\n",
       "      <td>3461920000</td>\n",
       "      <td>0.0</td>\n",
       "      <td>0.0</td>\n",
       "    </tr>\n",
       "    <tr>\n",
       "      <th>...</th>\n",
       "      <td>...</td>\n",
       "      <td>...</td>\n",
       "      <td>...</td>\n",
       "      <td>...</td>\n",
       "      <td>...</td>\n",
       "      <td>...</td>\n",
       "      <td>...</td>\n",
       "    </tr>\n",
       "    <tr>\n",
       "      <th>2023-12-18 00:00:00-05:00</th>\n",
       "      <td>4725.580078</td>\n",
       "      <td>4749.520020</td>\n",
       "      <td>4725.580078</td>\n",
       "      <td>4740.560059</td>\n",
       "      <td>4060340000</td>\n",
       "      <td>0.0</td>\n",
       "      <td>0.0</td>\n",
       "    </tr>\n",
       "    <tr>\n",
       "      <th>2023-12-19 00:00:00-05:00</th>\n",
       "      <td>4743.720215</td>\n",
       "      <td>4768.689941</td>\n",
       "      <td>4743.720215</td>\n",
       "      <td>4768.370117</td>\n",
       "      <td>4026970000</td>\n",
       "      <td>0.0</td>\n",
       "      <td>0.0</td>\n",
       "    </tr>\n",
       "    <tr>\n",
       "      <th>2023-12-20 00:00:00-05:00</th>\n",
       "      <td>4764.729980</td>\n",
       "      <td>4778.009766</td>\n",
       "      <td>4697.819824</td>\n",
       "      <td>4698.350098</td>\n",
       "      <td>4201320000</td>\n",
       "      <td>0.0</td>\n",
       "      <td>0.0</td>\n",
       "    </tr>\n",
       "    <tr>\n",
       "      <th>2023-12-21 00:00:00-05:00</th>\n",
       "      <td>4724.290039</td>\n",
       "      <td>4748.709961</td>\n",
       "      <td>4708.350098</td>\n",
       "      <td>4746.750000</td>\n",
       "      <td>3431180000</td>\n",
       "      <td>0.0</td>\n",
       "      <td>0.0</td>\n",
       "    </tr>\n",
       "    <tr>\n",
       "      <th>2023-12-22 00:00:00-05:00</th>\n",
       "      <td>4753.919922</td>\n",
       "      <td>4772.939941</td>\n",
       "      <td>4736.770020</td>\n",
       "      <td>4754.629883</td>\n",
       "      <td>3046770000</td>\n",
       "      <td>0.0</td>\n",
       "      <td>0.0</td>\n",
       "    </tr>\n",
       "  </tbody>\n",
       "</table>\n",
       "<p>1259 rows × 7 columns</p>\n",
       "</div>"
      ],
      "text/plain": [
       "                                  Open         High          Low        Close  \\\n",
       "Date                                                                            \n",
       "2018-12-24 00:00:00-05:00  2400.560059  2410.340088  2351.100098  2351.100098   \n",
       "2018-12-26 00:00:00-05:00  2363.120117  2467.760010  2346.580078  2467.699951   \n",
       "2018-12-27 00:00:00-05:00  2442.500000  2489.100098  2397.939941  2488.830078   \n",
       "2018-12-28 00:00:00-05:00  2498.770020  2520.270020  2472.889893  2485.739990   \n",
       "2018-12-31 00:00:00-05:00  2498.939941  2509.239990  2482.820068  2506.850098   \n",
       "...                                ...          ...          ...          ...   \n",
       "2023-12-18 00:00:00-05:00  4725.580078  4749.520020  4725.580078  4740.560059   \n",
       "2023-12-19 00:00:00-05:00  4743.720215  4768.689941  4743.720215  4768.370117   \n",
       "2023-12-20 00:00:00-05:00  4764.729980  4778.009766  4697.819824  4698.350098   \n",
       "2023-12-21 00:00:00-05:00  4724.290039  4748.709961  4708.350098  4746.750000   \n",
       "2023-12-22 00:00:00-05:00  4753.919922  4772.939941  4736.770020  4754.629883   \n",
       "\n",
       "                               Volume  Dividends  Stock Splits  \n",
       "Date                                                            \n",
       "2018-12-24 00:00:00-05:00  2613670000        0.0           0.0  \n",
       "2018-12-26 00:00:00-05:00  4249740000        0.0           0.0  \n",
       "2018-12-27 00:00:00-05:00  4139010000        0.0           0.0  \n",
       "2018-12-28 00:00:00-05:00  3728440000        0.0           0.0  \n",
       "2018-12-31 00:00:00-05:00  3461920000        0.0           0.0  \n",
       "...                               ...        ...           ...  \n",
       "2023-12-18 00:00:00-05:00  4060340000        0.0           0.0  \n",
       "2023-12-19 00:00:00-05:00  4026970000        0.0           0.0  \n",
       "2023-12-20 00:00:00-05:00  4201320000        0.0           0.0  \n",
       "2023-12-21 00:00:00-05:00  3431180000        0.0           0.0  \n",
       "2023-12-22 00:00:00-05:00  3046770000        0.0           0.0  \n",
       "\n",
       "[1259 rows x 7 columns]"
      ]
     },
     "execution_count": 7,
     "metadata": {},
     "output_type": "execute_result"
    }
   ],
   "source": [
    "sp500 = yf.Ticker(\"^GSPC\")\n",
    "sp500 = sp500.history(period=\"5y\", interval=\"1d\")\n",
    "\n",
    "sp500"
   ]
  },
  {
   "cell_type": "markdown",
   "metadata": {},
   "source": [
    "Data Quality Check"
   ]
  },
  {
   "cell_type": "code",
   "execution_count": 8,
   "metadata": {},
   "outputs": [
    {
     "name": "stdout",
     "output_type": "stream",
     "text": [
      "<class 'pandas.core.frame.DataFrame'>\n",
      "DatetimeIndex: 1259 entries, 2018-12-24 00:00:00-05:00 to 2023-12-22 00:00:00-05:00\n",
      "Data columns (total 7 columns):\n",
      " #   Column        Non-Null Count  Dtype  \n",
      "---  ------        --------------  -----  \n",
      " 0   Open          1259 non-null   float64\n",
      " 1   High          1259 non-null   float64\n",
      " 2   Low           1259 non-null   float64\n",
      " 3   Close         1259 non-null   float64\n",
      " 4   Volume        1259 non-null   int64  \n",
      " 5   Dividends     1259 non-null   float64\n",
      " 6   Stock Splits  1259 non-null   float64\n",
      "dtypes: float64(6), int64(1)\n",
      "memory usage: 78.7 KB\n"
     ]
    }
   ],
   "source": [
    "sp500.info()"
   ]
  },
  {
   "cell_type": "code",
   "execution_count": 9,
   "metadata": {},
   "outputs": [
    {
     "data": {
      "text/plain": [
       "Open            0\n",
       "High            0\n",
       "Low             0\n",
       "Close           0\n",
       "Volume          0\n",
       "Dividends       0\n",
       "Stock Splits    0\n",
       "dtype: int64"
      ]
     },
     "execution_count": 9,
     "metadata": {},
     "output_type": "execute_result"
    }
   ],
   "source": [
    "sp500.isna().sum()"
   ]
  },
  {
   "cell_type": "code",
   "execution_count": 10,
   "metadata": {},
   "outputs": [
    {
     "data": {
      "text/plain": [
       "DatetimeIndex(['2018-12-24 00:00:00-05:00', '2018-12-26 00:00:00-05:00',\n",
       "               '2018-12-27 00:00:00-05:00', '2018-12-28 00:00:00-05:00',\n",
       "               '2018-12-31 00:00:00-05:00', '2019-01-02 00:00:00-05:00',\n",
       "               '2019-01-03 00:00:00-05:00', '2019-01-04 00:00:00-05:00',\n",
       "               '2019-01-07 00:00:00-05:00', '2019-01-08 00:00:00-05:00',\n",
       "               ...\n",
       "               '2023-12-11 00:00:00-05:00', '2023-12-12 00:00:00-05:00',\n",
       "               '2023-12-13 00:00:00-05:00', '2023-12-14 00:00:00-05:00',\n",
       "               '2023-12-15 00:00:00-05:00', '2023-12-18 00:00:00-05:00',\n",
       "               '2023-12-19 00:00:00-05:00', '2023-12-20 00:00:00-05:00',\n",
       "               '2023-12-21 00:00:00-05:00', '2023-12-22 00:00:00-05:00'],\n",
       "              dtype='datetime64[ns, America/New_York]', name='Date', length=1259, freq=None)"
      ]
     },
     "execution_count": 10,
     "metadata": {},
     "output_type": "execute_result"
    }
   ],
   "source": [
    "sp500.index"
   ]
  },
  {
   "cell_type": "code",
   "execution_count": null,
   "metadata": {},
   "outputs": [],
   "source": []
  }
 ],
 "metadata": {
  "kernelspec": {
   "display_name": "stockpricepredictionai-_gzET475-py3.11",
   "language": "python",
   "name": "python3"
  },
  "language_info": {
   "codemirror_mode": {
    "name": "ipython",
    "version": 3
   },
   "file_extension": ".py",
   "mimetype": "text/x-python",
   "name": "python",
   "nbconvert_exporter": "python",
   "pygments_lexer": "ipython3",
   "version": "3.11.1"
  }
 },
 "nbformat": 4,
 "nbformat_minor": 2
}
